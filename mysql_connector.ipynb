{
 "cells": [
  {
   "cell_type": "code",
   "execution_count": 1,
   "id": "435db616",
   "metadata": {},
   "outputs": [],
   "source": [
    "import pandas as pd\n",
    "import mysql.connector"
   ]
  },
  {
   "cell_type": "code",
   "execution_count": null,
   "id": "96ce3d1e",
   "metadata": {},
   "outputs": [],
   "source": [
    "conn= mysql.connector.connect(\n",
    "    host= 'localhost',\n",
    "    user='your_username',\n",
    "    password='Your_password',   \n",
    "    database='BikeStores'\n",
    ")"
   ]
  },
  {
   "cell_type": "code",
   "execution_count": null,
   "id": "f8bf849c",
   "metadata": {
    "vscode": {
     "languageId": "sql"
    }
   },
   "outputs": [],
   "source": [
    "query= '''\n",
    "SELECT\n",
    "    orders.order_id,\n",
    "    CONCAT(customers.first_name, \" \", customers.last_name) AS customer_name,\n",
    "    customers.city,\n",
    "    customers.state,\n",
    "    order_date,\n",
    "    SUM(order_items.quantity) AS Total_Units,\n",
    "    SUM(order_items.quantity * order_items.list_price) AS Revenue,\n",
    "    products.product_name,\n",
    "    categories.category_name,\n",
    "    brands.brand_name,\n",
    "    stores.store_name,\n",
    "    CONCAT(staffs.first_name,\" \", staffs.last_name) AS 'Sales_Rep'\n",
    "from orders\n",
    "JOIN customers on orders.customer_id = customers.customer_id\n",
    "JOIN order_items on orders.order_id = order_items.order_id\n",
    "JOIN products on order_items.product_id = products.product_id\n",
    "JOIN categories on products.category_id = categories.category_id\n",
    "JOIN stores on orders.store_id = stores.store_id\n",
    "JOIN staffs on orders.store_id = staffs.store_id\n",
    "JOIN brands on products.brand_id = brands.brand_id\n",
    "GROUP BY \n",
    "    orders.order_id,\n",
    "    customer_name,\n",
    "    city,\n",
    "    state,\n",
    "    order_date,\n",
    "    products.product_name,\n",
    "    categories.category_name,\n",
    "    brand_name,\n",
    "    stores.store_name,\n",
    "    Sales_Rep\n",
    "order by orders.order_id;\n",
    "'''"
   ]
  },
  {
   "cell_type": "code",
   "execution_count": 5,
   "id": "cd8bd8d3",
   "metadata": {},
   "outputs": [
    {
     "name": "stderr",
     "output_type": "stream",
     "text": [
      "/var/folders/x4/ftpc8wls493d42sy54sw6cth0000gn/T/ipykernel_1786/2476243223.py:1: UserWarning: pandas only supports SQLAlchemy connectable (engine/connection) or database string URI or sqlite3 DBAPI2 connection. Other DBAPI2 objects are not tested. Please consider using SQLAlchemy.\n",
      "  df= pd.read_sql(query, conn)\n"
     ]
    }
   ],
   "source": [
    "df= pd.read_sql(query, conn)"
   ]
  },
  {
   "cell_type": "code",
   "execution_count": 6,
   "id": "6e1394e8",
   "metadata": {},
   "outputs": [],
   "source": [
    "df.to_excel('BikeStores.xlsx', index= False)\n",
    "conn.close()"
   ]
  },
  {
   "cell_type": "code",
   "execution_count": null,
   "id": "9f461f12",
   "metadata": {},
   "outputs": [],
   "source": []
  }
 ],
 "metadata": {
  "kernelspec": {
   "display_name": "Python 3",
   "language": "python",
   "name": "python3"
  },
  "language_info": {
   "codemirror_mode": {
    "name": "ipython",
    "version": 3
   },
   "file_extension": ".py",
   "mimetype": "text/x-python",
   "name": "python",
   "nbconvert_exporter": "python",
   "pygments_lexer": "ipython3",
   "version": "3.12.4"
  }
 },
 "nbformat": 4,
 "nbformat_minor": 5
}
